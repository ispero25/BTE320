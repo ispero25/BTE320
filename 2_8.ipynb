{
  "nbformat": 4,
  "nbformat_minor": 0,
  "metadata": {
    "colab": {
      "provenance": [],
      "authorship_tag": "ABX9TyPSEZ+r/Cv3bREiGBE1I4vk",
      "include_colab_link": true
    },
    "kernelspec": {
      "name": "python3",
      "display_name": "Python 3"
    },
    "language_info": {
      "name": "python"
    }
  },
  "cells": [
    {
      "cell_type": "markdown",
      "metadata": {
        "id": "view-in-github",
        "colab_type": "text"
      },
      "source": [
        "<a href=\"https://colab.research.google.com/github/ispero25/BTE320/blob/main/2_8.ipynb\" target=\"_parent\"><img src=\"https://colab.research.google.com/assets/colab-badge.svg\" alt=\"Open In Colab\"/></a>"
      ]
    },
    {
      "cell_type": "markdown",
      "source": [
        "For var in range(n):\n",
        "Statement(s)\n",
        "\n",
        "Boolean function:\n",
        "While condition: --> true, false\n",
        "Statement(s)\n",
        "\n",
        "i = 1\n",
        "n = 5\n",
        "While i<n\n",
        "print(i)\n",
        "i = i + 1\n",
        "\n",
        "\n",
        "1. Useinput=input(\"Play a game\")\n",
        "2. while user input == \"y\"\n",
        "**game**\n",
        "3. userinput = imput(\"....\")\n"
      ],
      "metadata": {
        "id": "bzAfzljnFLoX"
      }
    },
    {
      "cell_type": "code",
      "source": [
        "import random\n",
        "\n",
        "user_choice = input(\"Enter your choice (rock, paper, or scissors): \")\n",
        "computer_choice = random.choice([\"rock\", \"paper\", \"scissors\"])\n",
        "\n",
        "print(f\"You chose: {user_choice}\")\n",
        "print(f\"Computer chose: {computer_choice}\")\n",
        "\n",
        "if user_choice == computer_choice:\n",
        "    print(\"It's a tie!\")\n",
        "elif (\n",
        "    (user_choice == \"rock\" and computer_choice == \"scissors\") or\n",
        "    (user_choice == \"paper\" and computer_choice == \"rock\") or\n",
        "    (user_choice == \"scissors\" and computer_choice == \"paper\")\n",
        "):\n",
        "    print(\"You win!\")\n",
        "else:\n",
        "    print(\"Computer wins!\")"
      ],
      "metadata": {
        "colab": {
          "base_uri": "https://localhost:8080/"
        },
        "id": "JT3WRS6VKe6M",
        "outputId": "4ac0a647-9254-40d4-c0d4-45408656621c"
      },
      "execution_count": null,
      "outputs": [
        {
          "output_type": "stream",
          "name": "stdout",
          "text": [
            "Enter your choice (rock, paper, or scissors): scissors\n",
            "You chose: scissors\n",
            "Computer chose: rock\n",
            "Computer wins!\n"
          ]
        }
      ]
    },
    {
      "cell_type": "code",
      "source": [
        "year = int(input(\"Enter a year: \"))\n",
        "\n",
        "if (year % 4 == 0 and year % 100 != 0) or (year % 400 == 0):\n",
        "    print(f\"{year} is a leap year!\")\n",
        "else:\n",
        "    print(f\"{year} is not a leap year.\")"
      ],
      "metadata": {
        "colab": {
          "base_uri": "https://localhost:8080/"
        },
        "id": "QsiDGxS2Kyeo",
        "outputId": "7b3840b0-aaa5-4031-ed48-a3aeb9806102"
      },
      "execution_count": null,
      "outputs": [
        {
          "output_type": "stream",
          "name": "stdout",
          "text": [
            "Enter a year: 2000\n",
            "2000 is a leap year!\n"
          ]
        }
      ]
    },
    {
      "cell_type": "code",
      "source": [
        "downpayment = 100000\n",
        "deposit = 10000\n",
        "n_months = 0\n",
        "while deposit < down\n",
        "    deposit = deposit + owned\n",
        "    n_months = n_months + 1"
      ],
      "metadata": {
        "id": "Czq-769zK60x"
      },
      "execution_count": null,
      "outputs": []
    }
  ]
}