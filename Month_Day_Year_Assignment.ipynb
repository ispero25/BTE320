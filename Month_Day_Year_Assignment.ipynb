{
  "nbformat": 4,
  "nbformat_minor": 0,
  "metadata": {
    "colab": {
      "provenance": [],
      "authorship_tag": "ABX9TyNRTvhMomPtU+bXzHUzDrB9",
      "include_colab_link": true
    },
    "kernelspec": {
      "name": "python3",
      "display_name": "Python 3"
    },
    "language_info": {
      "name": "python"
    }
  },
  "cells": [
    {
      "cell_type": "markdown",
      "metadata": {
        "id": "view-in-github",
        "colab_type": "text"
      },
      "source": [
        "<a href=\"https://colab.research.google.com/github/ispero25/BTE320/blob/main/Month_Day_Year_Assignment.ipynb\" target=\"_parent\"><img src=\"https://colab.research.google.com/assets/colab-badge.svg\" alt=\"Open In Colab\"/></a>"
      ]
    },
    {
      "cell_type": "code",
      "execution_count": 3,
      "metadata": {
        "colab": {
          "base_uri": "https://localhost:8080/"
        },
        "id": "72vVgNOgRNyY",
        "outputId": "4d778e8f-9f6a-4d7e-b114-0a9d290c4db2"
      },
      "outputs": [
        {
          "output_type": "stream",
          "name": "stdout",
          "text": [
            "Enter a date (MM/DD/YYYY): 05/30/2020\n",
            "The month you entered is: 05\n",
            "The day you entered is: 30\n",
            "The year you entered is: 2020\n"
          ]
        }
      ],
      "source": [
        "user_input = input(\"Enter a date (MM/DD/YYYY): \")\n",
        "month = user_input[:2]\n",
        "day = user_input[3:5]\n",
        "year = user_input[6:]\n",
        "print(f'The month you entered is: {month}\\nThe day you entered is: {day}\\nThe year you entered is: {year}')"
      ]
    }
  ]
}