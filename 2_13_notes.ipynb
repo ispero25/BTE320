{
  "nbformat": 4,
  "nbformat_minor": 0,
  "metadata": {
    "colab": {
      "provenance": [],
      "authorship_tag": "ABX9TyOnJwO/oZDsXnTBoD4r8GN5",
      "include_colab_link": true
    },
    "kernelspec": {
      "name": "python3",
      "display_name": "Python 3"
    },
    "language_info": {
      "name": "python"
    }
  },
  "cells": [
    {
      "cell_type": "markdown",
      "metadata": {
        "id": "view-in-github",
        "colab_type": "text"
      },
      "source": [
        "<a href=\"https://colab.research.google.com/github/ispero25/BTE320/blob/main/2_13_notes.ipynb\" target=\"_parent\"><img src=\"https://colab.research.google.com/assets/colab-badge.svg\" alt=\"Open In Colab\"/></a>"
      ]
    },
    {
      "cell_type": "markdown",
      "source": [
        "Numerical operators:\n",
        "Addition (+), subtraction (-), multiplication (*), division (/), raise to a power (**), float division (//), modulo (%).\n",
        "\n",
        "Create a calcualtor:"
      ],
      "metadata": {
        "id": "u4bOYJB46fM7"
      }
    },
    {
      "cell_type": "code",
      "execution_count": 42,
      "metadata": {
        "colab": {
          "base_uri": "https://localhost:8080/"
        },
        "id": "eGgL-UBC6MeP",
        "outputId": "dca3e54e-c3b2-4ec3-e5cd-3171a6698d42"
      },
      "outputs": [
        {
          "output_type": "stream",
          "name": "stdout",
          "text": [
            "choose an operator (+, -, *, /, **, //, %):break\n",
            "Goodbye :D\n"
          ]
        }
      ],
      "source": [
        "while True:\n",
        "  operator = input ('choose an operator (+, -, *, /, **, //, %):')\n",
        "  if operator == 'break':\n",
        "    print('Goodbye :D')\n",
        "    break\n",
        "\n",
        "  n1 = float(input ('Enter first number:'))\n",
        "  n2 = float(input ('Enter second number:'))\n",
        "\n",
        "  if operator == \"+\":\n",
        "     print(n1 + n2)\n",
        "  elif operator == \"-\":\n",
        "      print(n1 - n2)\n",
        "  elif operator == \"/\":\n",
        "      print(n1 / n2)\n",
        "  elif operator == \"*\":\n",
        "      print(n1 * n2)\n",
        "  elif operator == \"//\":\n",
        "      print(n1 // n2)\n",
        "  elif operator == \"**\":\n",
        "      print(n1 ** n2)\n",
        "  elif operator == \"%\":\n",
        "      print(n1 % n2)\n",
        "  else:\n",
        "    print(f'Invalid operator:\\'{operator}\\'')\n",
        "    continue"
      ]
    }
  ]
}