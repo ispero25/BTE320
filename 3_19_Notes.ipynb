{
  "nbformat": 4,
  "nbformat_minor": 0,
  "metadata": {
    "colab": {
      "provenance": [],
      "authorship_tag": "ABX9TyNjv4Rs/kNs6iMkC0cw5NTu",
      "include_colab_link": true
    },
    "kernelspec": {
      "name": "python3",
      "display_name": "Python 3"
    },
    "language_info": {
      "name": "python"
    }
  },
  "cells": [
    {
      "cell_type": "markdown",
      "metadata": {
        "id": "view-in-github",
        "colab_type": "text"
      },
      "source": [
        "<a href=\"https://colab.research.google.com/github/ispero25/BTE320/blob/main/3_19_Notes.ipynb\" target=\"_parent\"><img src=\"https://colab.research.google.com/assets/colab-badge.svg\" alt=\"Open In Colab\"/></a>"
      ]
    },
    {
      "cell_type": "code",
      "source": [
        "def fill(l):\n",
        "  for i in range(10):\n",
        "    l.append(i)\n",
        "    if i%2 == 0:\n",
        "      l.pop()\n",
        "  print(l)"
      ],
      "metadata": {
        "id": "G71P06vAlSTw"
      },
      "execution_count": 13,
      "outputs": []
    },
    {
      "cell_type": "code",
      "execution_count": 14,
      "metadata": {
        "colab": {
          "base_uri": "https://localhost:8080/"
        },
        "id": "LXwU5QOwivP1",
        "outputId": "c7fb711d-aa4a-4da2-919d-98fb92c05d8d"
      },
      "outputs": [
        {
          "output_type": "stream",
          "name": "stdout",
          "text": [
            "[1, 3, 5, 7, 9]\n"
          ]
        }
      ],
      "source": [
        "aList = []\n",
        "\n",
        "for i in range(10):\n",
        "  aList.append(i)\n",
        "  if i%2 ==0:\n",
        "    aList.pop()\n",
        "\n",
        "print(aList)"
      ]
    },
    {
      "cell_type": "code",
      "source": [
        "aList = []\n",
        "fill(aList)"
      ],
      "metadata": {
        "colab": {
          "base_uri": "https://localhost:8080/"
        },
        "id": "VONoL0jJjgDT",
        "outputId": "66a4aa85-b6c9-4106-b799-7cae5d1e6006"
      },
      "execution_count": 15,
      "outputs": [
        {
          "output_type": "stream",
          "name": "stdout",
          "text": [
            "[1, 3, 5, 7, 9]\n"
          ]
        }
      ]
    },
    {
      "cell_type": "code",
      "source": [
        "def fill(Alice):\n",
        "  for i in range(10):\n",
        "    Alice.append(i)\n",
        "    if i%2 == 0:\n",
        "      Alice.pop()\n",
        "  print(Alice)\n",
        "\n",
        "aList = []\n",
        "fill(aList)"
      ],
      "metadata": {
        "colab": {
          "base_uri": "https://localhost:8080/"
        },
        "id": "_74sZtvIpoCP",
        "outputId": "04f33a03-dc5b-447d-cd77-744566d97549"
      },
      "execution_count": 16,
      "outputs": [
        {
          "output_type": "stream",
          "name": "stdout",
          "text": [
            "[1, 3, 5, 7, 9]\n"
          ]
        }
      ]
    },
    {
      "cell_type": "code",
      "source": [
        "def greeting(n):\n",
        "  print(f'Hello {n}!')\n",
        "\n",
        "name = input('Enter a name: ')\n",
        "greeting(name)"
      ],
      "metadata": {
        "colab": {
          "base_uri": "https://localhost:8080/"
        },
        "id": "Q26Kbsbrq-xE",
        "outputId": "bdf44f00-f467-4a58-9058-f43e3ffddfba"
      },
      "execution_count": 17,
      "outputs": [
        {
          "output_type": "stream",
          "name": "stdout",
          "text": [
            "Enter a name: Alice\n",
            "Hello Alice!\n"
          ]
        }
      ]
    },
    {
      "cell_type": "code",
      "source": [
        "def add_num(a, b):\n",
        "  return a + b\n",
        "x = 5\n",
        "y = 6\n",
        "c = add_num(x, y)"
      ],
      "metadata": {
        "id": "-KLEql-SuFKw"
      },
      "execution_count": 21,
      "outputs": []
    },
    {
      "cell_type": "code",
      "source": [
        "def fill_new():\n",
        "    l = []\n",
        "\n",
        "    for i in range(10):\n",
        "        l.append(i)\n",
        "        if i%2 == 0:\n",
        "            l.pop()\n",
        "    print(l)\n",
        "\n",
        "fill_new()"
      ],
      "metadata": {
        "colab": {
          "base_uri": "https://localhost:8080/"
        },
        "id": "32U8vd9OwSvg",
        "outputId": "526ab3e2-c53a-4fdd-8507-385ffcf8a2ce"
      },
      "execution_count": 22,
      "outputs": [
        {
          "output_type": "stream",
          "name": "stdout",
          "text": [
            "[1, 3, 5, 7, 9]\n"
          ]
        }
      ]
    },
    {
      "cell_type": "code",
      "source": [
        "def add_num(a, b):\n",
        "  c = a + b\n",
        "  c_sq = c ** 2\n",
        "  return c, c_sq\n",
        "\n",
        "c, c_sq = add_num(5, 6)\n",
        "print(c_sq)"
      ],
      "metadata": {
        "colab": {
          "base_uri": "https://localhost:8080/"
        },
        "id": "UeQCb_NnxBss",
        "outputId": "bc83ccb1-d3c6-4e99-f017-00d209afef9a"
      },
      "execution_count": 30,
      "outputs": [
        {
          "output_type": "stream",
          "name": "stdout",
          "text": [
            "121\n"
          ]
        }
      ]
    }
  ]
}