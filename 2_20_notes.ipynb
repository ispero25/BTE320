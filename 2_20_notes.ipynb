{
  "nbformat": 4,
  "nbformat_minor": 0,
  "metadata": {
    "colab": {
      "provenance": [],
      "authorship_tag": "ABX9TyNUKz0zDaUID97HDw4v/zmQ",
      "include_colab_link": true
    },
    "kernelspec": {
      "name": "python3",
      "display_name": "Python 3"
    },
    "language_info": {
      "name": "python"
    }
  },
  "cells": [
    {
      "cell_type": "markdown",
      "metadata": {
        "id": "view-in-github",
        "colab_type": "text"
      },
      "source": [
        "<a href=\"https://colab.research.google.com/github/ispero25/BTE320/blob/main/2_20_notes.ipynb\" target=\"_parent\"><img src=\"https://colab.research.google.com/assets/colab-badge.svg\" alt=\"Open In Colab\"/></a>"
      ]
    },
    {
      "cell_type": "code",
      "execution_count": 1,
      "metadata": {
        "colab": {
          "base_uri": "https://localhost:8080/",
          "height": 35
        },
        "id": "4F6lojrJDkm5",
        "outputId": "871ef4bb-f778-4d65-ed7a-93a9d1b5ea9b"
      },
      "outputs": [
        {
          "output_type": "execute_result",
          "data": {
            "text/plain": [
              "'e'"
            ],
            "application/vnd.google.colaboratory.intrinsic+json": {
              "type": "string"
            }
          },
          "metadata": {},
          "execution_count": 1
        }
      ],
      "source": [
        "s = \"abcde\"\n",
        "len(s)\n",
        "s[3]\n",
        "s[1:4]\n",
        "s[-1]\n",
        "s[len(s)-1]"
      ]
    },
    {
      "cell_type": "code",
      "source": [
        "date = input('Enter a date:')\n",
        "print(f'The month is {date[0:2]}')\n",
        "print(f'The day is {date[3:5]}')\n",
        "print(f'The year is {date[6:10]}')"
      ],
      "metadata": {
        "colab": {
          "base_uri": "https://localhost:8080/"
        },
        "id": "SEKE0IW7EDeA",
        "outputId": "703a6d66-99b0-4a88-94b6-746b7f8bf1dd"
      },
      "execution_count": 7,
      "outputs": [
        {
          "output_type": "stream",
          "name": "stdout",
          "text": [
            "Enter a date:02/20/2024\n",
            "The month is 02\n",
            "The day is 20\n",
            "The year is 2024\n"
          ]
        }
      ]
    },
    {
      "cell_type": "code",
      "source": [
        "date = input('Enter a date:')\n",
        "print(f'The month is {date[:2]}')\n",
        "print(f'The day is {date[3:5]}')\n",
        "print(f'The year is {date[6:]}')"
      ],
      "metadata": {
        "colab": {
          "base_uri": "https://localhost:8080/"
        },
        "id": "_MVEFzmlI8rp",
        "outputId": "6145bfb0-1bee-48a3-fe66-bcc989de5897"
      },
      "execution_count": 8,
      "outputs": [
        {
          "output_type": "stream",
          "name": "stdout",
          "text": [
            "Enter a date:02/20/2024\n",
            "The month is 02\n",
            "The day is 20\n",
            "The year is 2024\n"
          ]
        }
      ]
    }
  ]
}