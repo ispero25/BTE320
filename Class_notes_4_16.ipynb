{
  "nbformat": 4,
  "nbformat_minor": 0,
  "metadata": {
    "colab": {
      "provenance": [],
      "authorship_tag": "ABX9TyP79XCvg4niRv0p9QN1LmQf",
      "include_colab_link": true
    },
    "kernelspec": {
      "name": "python3",
      "display_name": "Python 3"
    },
    "language_info": {
      "name": "python"
    }
  },
  "cells": [
    {
      "cell_type": "markdown",
      "metadata": {
        "id": "view-in-github",
        "colab_type": "text"
      },
      "source": [
        "<a href=\"https://colab.research.google.com/github/ispero25/BTE320/blob/main/Class_notes_4_16.ipynb\" target=\"_parent\"><img src=\"https://colab.research.google.com/assets/colab-badge.svg\" alt=\"Open In Colab\"/></a>"
      ]
    },
    {
      "cell_type": "code",
      "execution_count": 2,
      "metadata": {
        "id": "S-REL1Vq0bbC"
      },
      "outputs": [],
      "source": [
        "class Animal:\n",
        "  # This is the constructor method; used to initialize the instance attrinutes (a.k.a. data) of each class instance (a.k.a. object)\n",
        "  def __init__(self, dims, weight, life_exp):\n",
        "    self.dims = dims # setting up instance attributes\n",
        "    self.weight = weight\n",
        "    self.life_ext = life_exp\n",
        "    self.name = None"
      ]
    }
  ]
}