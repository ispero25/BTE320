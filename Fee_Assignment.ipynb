{
  "nbformat": 4,
  "nbformat_minor": 0,
  "metadata": {
    "colab": {
      "provenance": [],
      "authorship_tag": "ABX9TyMDt0y9ly7DCzV9Yr8iJm1a",
      "include_colab_link": true
    },
    "kernelspec": {
      "name": "python3",
      "display_name": "Python 3"
    },
    "language_info": {
      "name": "python"
    }
  },
  "cells": [
    {
      "cell_type": "markdown",
      "metadata": {
        "id": "view-in-github",
        "colab_type": "text"
      },
      "source": [
        "<a href=\"https://colab.research.google.com/github/ispero25/BTE320/blob/main/Fee_Assignment.ipynb\" target=\"_parent\"><img src=\"https://colab.research.google.com/assets/colab-badge.svg\" alt=\"Open In Colab\"/></a>"
      ]
    },
    {
      "cell_type": "code",
      "execution_count": 1,
      "metadata": {
        "colab": {
          "base_uri": "https://localhost:8080/"
        },
        "id": "Iy0_VCSiSEoG",
        "outputId": "12346802-0eeb-4eec-f55d-fce8af778b6a"
      },
      "outputs": [
        {
          "output_type": "stream",
          "name": "stdout",
          "text": [
            "1 $10.0\n",
            "2 $10.0\n",
            "3 $12.5\n",
            "4 $15.0\n",
            "5 $17.5\n",
            "6 $20.0\n",
            "7 $20.0\n",
            "8 $20.0\n"
          ]
        }
      ],
      "source": [
        "for hour in range(1,9):\n",
        "  fee = 5 + 2.5*hour\n",
        "  if fee<10:\n",
        "    fee = 10.0\n",
        "  elif fee>20:\n",
        "    fee = 20.0\n",
        "  print (f'{hour} ${fee}')"
      ]
    }
  ]
}