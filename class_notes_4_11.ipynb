{
  "nbformat": 4,
  "nbformat_minor": 0,
  "metadata": {
    "colab": {
      "provenance": [],
      "authorship_tag": "ABX9TyOR7sopQHSuzLlTKQtvy5kL",
      "include_colab_link": true
    },
    "kernelspec": {
      "name": "python3",
      "display_name": "Python 3"
    },
    "language_info": {
      "name": "python"
    }
  },
  "cells": [
    {
      "cell_type": "markdown",
      "metadata": {
        "id": "view-in-github",
        "colab_type": "text"
      },
      "source": [
        "<a href=\"https://colab.research.google.com/github/ispero25/BTE320/blob/main/class_notes_4_11.ipynb\" target=\"_parent\"><img src=\"https://colab.research.google.com/assets/colab-badge.svg\" alt=\"Open In Colab\"/></a>"
      ]
    },
    {
      "cell_type": "code",
      "execution_count": null,
      "metadata": {
        "id": "5MUau_4K_9fm"
      },
      "outputs": [],
      "source": [
        "1 = [1,3,5,7,9]\n",
        "\n",
        "try:\n",
        "  idx = int(input('Enter index: '))\n",
        "  print(1[idx])"
      ]
    },
    {
      "cell_type": "code",
      "source": [
        "try:\n",
        "  a = float(input('Enter the numerator: '))\n",
        "  b = float(input('Enter the denominator: '))\n",
        "  print(a/b)\n",
        "  print('Division complete')\n",
        "except ZeroDivisionError:\n",
        "  print('Division by zero not allowed!')\n",
        "except ValueError:\n",
        "  print('Invalid input!')\n",
        "except:\n",
        "  print('Unknown error...')\n",
        "finally:\n",
        "  print('This will be displayed always')\n",
        "\n",
        "print('Program ends')"
      ],
      "metadata": {
        "colab": {
          "base_uri": "https://localhost:8080/"
        },
        "id": "8cioIhX0ALOy",
        "outputId": "23598525-1756-49e1-e87e-685b76911308"
      },
      "execution_count": null,
      "outputs": [
        {
          "output_type": "stream",
          "name": "stdout",
          "text": [
            "Enter the numerator: 5\n",
            "Enter the denominator: 0\n",
            "Division by zero not allowed!\n",
            "This will be displayed always\n",
            "Program ends\n"
          ]
        }
      ]
    },
    {
      "cell_type": "code",
      "source": [],
      "metadata": {
        "id": "FQPN-k22Asm_"
      },
      "execution_count": null,
      "outputs": []
    }
  ]
}