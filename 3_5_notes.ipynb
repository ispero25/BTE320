{
  "nbformat": 4,
  "nbformat_minor": 0,
  "metadata": {
    "colab": {
      "provenance": [],
      "authorship_tag": "ABX9TyM2B6OWjcPd3Z2RX5P0l7Ay",
      "include_colab_link": true
    },
    "kernelspec": {
      "name": "python3",
      "display_name": "Python 3"
    },
    "language_info": {
      "name": "python"
    }
  },
  "cells": [
    {
      "cell_type": "markdown",
      "metadata": {
        "id": "view-in-github",
        "colab_type": "text"
      },
      "source": [
        "<a href=\"https://colab.research.google.com/github/ispero25/BTE320/blob/main/3_5_notes.ipynb\" target=\"_parent\"><img src=\"https://colab.research.google.com/assets/colab-badge.svg\" alt=\"Open In Colab\"/></a>"
      ]
    },
    {
      "cell_type": "markdown",
      "source": [
        "Dictionary:\n",
        "d = {K1:V1,\n",
        "     K2:V2.....\n",
        "}"
      ],
      "metadata": {
        "id": "zSulFlbuqjvz"
      }
    },
    {
      "cell_type": "code",
      "execution_count": 1,
      "metadata": {
        "id": "FhrYqsgkqPc1"
      },
      "outputs": [],
      "source": [
        "grades = {\n",
        "    'Alice': 91,\n",
        "    'Bob': 88,\n",
        "    'Tracy': 93,\n",
        "    'Erik': 90\n",
        "}"
      ]
    },
    {
      "cell_type": "markdown",
      "source": [
        "d[K1]"
      ],
      "metadata": {
        "id": "vNVUhB0ArIGU"
      }
    },
    {
      "cell_type": "code",
      "source": [
        "grades['Bob']"
      ],
      "metadata": {
        "colab": {
          "base_uri": "https://localhost:8080/"
        },
        "id": "_xCb4Odcq4Iv",
        "outputId": "bba53b0e-5bab-4994-c829-ad7e1ed5fd08"
      },
      "execution_count": 2,
      "outputs": [
        {
          "output_type": "execute_result",
          "data": {
            "text/plain": [
              "88"
            ]
          },
          "metadata": {},
          "execution_count": 2
        }
      ]
    },
    {
      "cell_type": "code",
      "source": [
        "grades['Tracy']"
      ],
      "metadata": {
        "colab": {
          "base_uri": "https://localhost:8080/"
        },
        "id": "gfEow7b7rorM",
        "outputId": "d5729430-605a-46a9-8530-6bd4a9fe575f"
      },
      "execution_count": 3,
      "outputs": [
        {
          "output_type": "execute_result",
          "data": {
            "text/plain": [
              "93"
            ]
          },
          "metadata": {},
          "execution_count": 3
        }
      ]
    },
    {
      "cell_type": "markdown",
      "source": [
        "d[k1] = v1"
      ],
      "metadata": {
        "id": "tpR0PrTWsHCB"
      }
    },
    {
      "cell_type": "code",
      "source": [
        "grades['Michael'] = 92\n",
        "grades"
      ],
      "metadata": {
        "colab": {
          "base_uri": "https://localhost:8080/"
        },
        "id": "8jtx1aJRsBr2",
        "outputId": "68d2f9ec-aafb-4389-beaa-2024fc61066f"
      },
      "execution_count": 17,
      "outputs": [
        {
          "output_type": "execute_result",
          "data": {
            "text/plain": [
              "{'Alice': 95, 'Bob': 88, 'Tracy': 93, 'Erik': 90, 'Michael': 92}"
            ]
          },
          "metadata": {},
          "execution_count": 17
        }
      ]
    },
    {
      "cell_type": "code",
      "source": [
        "grades['Alice'] = 95\n",
        "grades"
      ],
      "metadata": {
        "colab": {
          "base_uri": "https://localhost:8080/"
        },
        "id": "knSitRM5sq9D",
        "outputId": "5f9dcb4b-ddd3-4c9b-b031-02523d62a646"
      },
      "execution_count": 18,
      "outputs": [
        {
          "output_type": "execute_result",
          "data": {
            "text/plain": [
              "{'Alice': 95, 'Bob': 88, 'Tracy': 93, 'Erik': 90, 'Michael': 92}"
            ]
          },
          "metadata": {},
          "execution_count": 18
        }
      ]
    },
    {
      "cell_type": "markdown",
      "source": [
        "del is used to remove items from a dictionary"
      ],
      "metadata": {
        "id": "4hpvRMIguE4P"
      }
    },
    {
      "cell_type": "code",
      "source": [
        "del(grades['Michael'])\n",
        "grades"
      ],
      "metadata": {
        "colab": {
          "base_uri": "https://localhost:8080/"
        },
        "id": "abj0Tvgjt_V2",
        "outputId": "7e016dcb-d82f-4268-833a-9ebc4039b1a8"
      },
      "execution_count": 20,
      "outputs": [
        {
          "output_type": "execute_result",
          "data": {
            "text/plain": [
              "{'Alice': 95, 'Bob': 88, 'Tracy': 93, 'Erik': 90}"
            ]
          },
          "metadata": {},
          "execution_count": 20
        }
      ]
    },
    {
      "cell_type": "markdown",
      "source": [
        "d.keys()\n",
        "d.values()\n",
        "d.items()"
      ],
      "metadata": {
        "id": "M8vB8RK8vOgk"
      }
    },
    {
      "cell_type": "code",
      "source": [
        "grades.keys()"
      ],
      "metadata": {
        "colab": {
          "base_uri": "https://localhost:8080/"
        },
        "id": "dizWHYrtvKfA",
        "outputId": "49a202f9-3817-4b44-ddbf-c29d5a83080a"
      },
      "execution_count": 22,
      "outputs": [
        {
          "output_type": "execute_result",
          "data": {
            "text/plain": [
              "dict_keys(['Alice', 'Bob', 'Tracy', 'Erik'])"
            ]
          },
          "metadata": {},
          "execution_count": 22
        }
      ]
    },
    {
      "cell_type": "code",
      "source": [
        "grades.values()"
      ],
      "metadata": {
        "colab": {
          "base_uri": "https://localhost:8080/"
        },
        "id": "hmT6I6PDvt3f",
        "outputId": "4cc98b15-7346-4e32-ec1f-fb351ba82604"
      },
      "execution_count": 24,
      "outputs": [
        {
          "output_type": "execute_result",
          "data": {
            "text/plain": [
              "dict_values([95, 88, 93, 90])"
            ]
          },
          "metadata": {},
          "execution_count": 24
        }
      ]
    },
    {
      "cell_type": "code",
      "source": [
        "grades.items()"
      ],
      "metadata": {
        "colab": {
          "base_uri": "https://localhost:8080/"
        },
        "id": "_DrNeo2Fvw57",
        "outputId": "ace18fcf-2f12-453e-b9db-7abf4b34f78e"
      },
      "execution_count": 25,
      "outputs": [
        {
          "output_type": "execute_result",
          "data": {
            "text/plain": [
              "dict_items([('Alice', 95), ('Bob', 88), ('Tracy', 93), ('Erik', 90)])"
            ]
          },
          "metadata": {},
          "execution_count": 25
        }
      ]
    },
    {
      "cell_type": "code",
      "source": [
        "for key in grades.keys():\n",
        "  print(key)"
      ],
      "metadata": {
        "colab": {
          "base_uri": "https://localhost:8080/"
        },
        "id": "XHwsRzKiwC1m",
        "outputId": "1229e7c6-b97b-4a84-a52e-e3a325c411ae"
      },
      "execution_count": 28,
      "outputs": [
        {
          "output_type": "stream",
          "name": "stdout",
          "text": [
            "Alice\n",
            "Bob\n",
            "Tracy\n",
            "Erik\n"
          ]
        }
      ]
    },
    {
      "cell_type": "code",
      "source": [
        "for key in grades.values():\n",
        "  print(key)"
      ],
      "metadata": {
        "colab": {
          "base_uri": "https://localhost:8080/"
        },
        "id": "FelrZGUzwaxq",
        "outputId": "217c9aec-7e21-4e19-b9dc-ee17a27b6136"
      },
      "execution_count": 29,
      "outputs": [
        {
          "output_type": "stream",
          "name": "stdout",
          "text": [
            "95\n",
            "88\n",
            "93\n",
            "90\n"
          ]
        }
      ]
    },
    {
      "cell_type": "code",
      "source": [
        "for key, value in grades.items():\n",
        "  print(key, value)"
      ],
      "metadata": {
        "colab": {
          "base_uri": "https://localhost:8080/"
        },
        "id": "2NzWuuEJwdN4",
        "outputId": "942060ed-fc03-4820-99ca-1c380d679da8"
      },
      "execution_count": 35,
      "outputs": [
        {
          "output_type": "stream",
          "name": "stdout",
          "text": [
            "Alice 95\n",
            "Bob 88\n",
            "Tracy 93\n",
            "Erik 90\n"
          ]
        }
      ]
    }
  ]
}