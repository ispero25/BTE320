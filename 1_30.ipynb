{
  "nbformat": 4,
  "nbformat_minor": 0,
  "metadata": {
    "colab": {
      "provenance": [],
      "include_colab_link": true
    },
    "kernelspec": {
      "name": "python3",
      "display_name": "Python 3"
    },
    "language_info": {
      "name": "python"
    }
  },
  "cells": [
    {
      "cell_type": "markdown",
      "metadata": {
        "id": "view-in-github",
        "colab_type": "text"
      },
      "source": [
        "<a href=\"https://colab.research.google.com/github/ispero25/BTE320/blob/main/1_30.ipynb\" target=\"_parent\"><img src=\"https://colab.research.google.com/assets/colab-badge.svg\" alt=\"Open In Colab\"/></a>"
      ]
    },
    {
      "cell_type": "markdown",
      "source": [
        "If a number is divisible by 2 & 3."
      ],
      "metadata": {
        "id": "1vRjXmEG1sZ5"
      }
    },
    {
      "cell_type": "code",
      "execution_count": null,
      "metadata": {
        "id": "qwdSu73K0vAJ"
      },
      "outputs": [],
      "source": [
        "x = _____\n",
        "\n",
        "if x%2 == 0: # <-- first checks if x%2 eqials to zero\n",
        "  if x%3 == 0:\n",
        "    print(6)\n",
        "  else:\n",
        "    print(4)\n",
        "elif: x % 3 == 0:\n",
        "    print(9)\n",
        "else:\n",
        "  print(7)"
      ]
    },
    {
      "cell_type": "markdown",
      "source": [
        "For this to work, both a & b must be true."
      ],
      "metadata": {
        "id": "mXwU6MW-4ghR"
      }
    },
    {
      "cell_type": "code",
      "execution_count": null,
      "metadata": {
        "id": "bNcNFX2b4YZb"
      },
      "outputs": [],
      "source": [
        "      a             b\n",
        "if x%2 == 0 and x%3 == 0:\n",
        "  print(___)"
      ]
    },
    {
      "cell_type": "markdown",
      "source": [
        "If either a is true, the expression can continue. If not true, it is false."
      ],
      "metadata": {
        "id": "C21MVmnU46tU"
      }
    },
    {
      "cell_type": "code",
      "source": [
        "if (age > 25 and m_status == \"single\") or assets > 100000:\n",
        "  print (\"Elligible for loan\")"
      ],
      "metadata": {
        "id": "z6bUkdFL437b"
      },
      "execution_count": null,
      "outputs": []
    },
    {
      "cell_type": "markdown",
      "source": [
        "Testing the compound expression"
      ],
      "metadata": {
        "id": "LWFm70f97Gnq"
      }
    },
    {
      "cell_type": "code",
      "source": [
        "  # let's test the compound expression\n",
        "\n",
        "    x = 2\n",
        "    y = 4\n",
        "    z = 6\n",
        "\n",
        "    if x < y and x < z\"\n",
        "      print('x is least')\n",
        "    elif y < z:\n",
        "      print('y is least')\n",
        "    else:\n",
        "      print('z is least')"
      ],
      "metadata": {
        "id": "V0ZTItto7FfU"
      },
      "execution_count": null,
      "outputs": []
    },
    {
      "cell_type": "code",
      "source": [
        "# Step 1: Input deposit amount\n",
        "customer_type = input('Enter type of customer (n: new, e: existing):')\n",
        "deposit = float(input('Enter the deposit amount ($):'))\n",
        "\n",
        "# Step 2: Decide interest rate\n",
        "if customer_type == 'e' and deposit > 10000:\n",
        "   ir = 3.5\n",
        "  elif customer_type <= 1000:\n",
        "   ir = 3.0\n",
        "  else:\n",
        "   ir = 3.25\n",
        "else:\n",
        "  ir = 3.0\n",
        "\n",
        "# Step 3: Display total amount after interest rate is applied\n",
        "total = (1 + ir/100) * deposit\n",
        "print(f'Total after interest applied: (round(total, 2)} $)')"
      ],
      "metadata": {
        "id": "-NIt8aT08Qcz"
      },
      "execution_count": null,
      "outputs": []
    },
    {
      "cell_type": "code",
      "source": [
        "# Step 2: Decide interest rate\n",
        "if customer_type == 'e' and deposit > 10000:\n",
        "  if deposit > 10000:\n",
        "   ir = 3.5\n",
        "  elif deposit <= 1000:"
      ],
      "metadata": {
        "id": "3WfyiwQ0-HSB"
      },
      "execution_count": null,
      "outputs": []
    },
    {
      "cell_type": "markdown",
      "source": [],
      "metadata": {
        "id": "3GIIAj3a-ZlK"
      }
    },
    {
      "cell_type": "code",
      "source": [
        "x = 2\n",
        "y = 4\n",
        "z = 6\n",
        "\n",
        "3 odd: 1\n",
        "2 odd,"
      ],
      "metadata": {
        "id": "BFdePtac-Xo_"
      },
      "execution_count": null,
      "outputs": []
    }
  ]
}